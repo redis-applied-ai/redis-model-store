{
 "cells": [
  {
   "cell_type": "markdown",
   "id": "cbba56a9",
   "metadata": {},
   "source": [
    "![Redis](https://redis.io/wp-content/uploads/2024/04/Logotype.svg?auto=webp&quality=85,75&width=120)\n",
    "\n",
    "# ML Model Serialization in Redis\n",
    "\n",
    "The `ModelStore` class below implements the following logic:\n",
    "- Builds a model metadata index for model version management\n",
    "- Handles model chunking, serialization, and deserialization to/from Redis using Pickle\n",
    "\n",
    "Then we test with various Python ML-native data types and models.\n",
    "\n"
   ]
  },
  {
   "cell_type": "code",
   "execution_count": null,
   "id": "0c3ead6c",
   "metadata": {},
   "outputs": [],
   "source": [
    "%pip install scikit-learn torch tensorflow"
   ]
  },
  {
   "cell_type": "code",
   "execution_count": 1,
   "id": "307c25ed",
   "metadata": {},
   "outputs": [],
   "source": [
    "import os\n",
    "import redis\n",
    "\n",
    "from model_store import ModelStore\n",
    "\n",
    "# Replace values below with your own if using Redis Cloud instance\n",
    "REDIS_HOST = os.getenv(\"REDIS_HOST\", \"localhost\") # ex: \"redis-18374.c253.us-central1-1.gce.cloud.redislabs.com\"\n",
    "REDIS_PORT = os.getenv(\"REDIS_PORT\", \"6379\")      # ex: 18374\n",
    "REDIS_PASSWORD = os.getenv(\"REDIS_PASSWORD\", \"\")  # ex: \"1TNxTEdYRDgIDKM2gDfasupCADXXXX\"\n",
    "\n",
    "# If SSL is enabled on the endpoint, use rediss:// as the URL prefix\n",
    "REDIS_URL = f\"redis://:{REDIS_PASSWORD}@{REDIS_HOST}:{REDIS_PORT}\"\n",
    "\n",
    "# Initialize Redis client\n",
    "redis_client = redis.Redis.from_url(REDIS_URL)"
   ]
  },
  {
   "cell_type": "code",
   "execution_count": 2,
   "id": "dfe10ba9",
   "metadata": {},
   "outputs": [
    {
     "name": "stdout",
     "output_type": "stream",
     "text": [
      "15:27:15 redisvl.index.index INFO   Index already exists, not overwriting.\n"
     ]
    }
   ],
   "source": [
    "# Initialize the ModelStore\n",
    "model_store = ModelStore(redis_client, shard_size=1012*100)"
   ]
  },
  {
   "cell_type": "markdown",
   "id": "14a8c59f",
   "metadata": {},
   "source": [
    "## Test with simple Scikit-Learn model"
   ]
  },
  {
   "cell_type": "code",
   "execution_count": 3,
   "id": "74cc62af",
   "metadata": {},
   "outputs": [
    {
     "name": "stdout",
     "output_type": "stream",
     "text": [
      "Model accuracy: 1.00\n"
     ]
    }
   ],
   "source": [
    "from sklearn.ensemble import RandomForestClassifier\n",
    "from sklearn.datasets import load_iris\n",
    "from sklearn.model_selection import train_test_split\n",
    "from sklearn.metrics import accuracy_score\n",
    "\n",
    "# Load a simple dataset and train a RandomForest model\n",
    "iris = load_iris()\n",
    "X_train, X_test, y_train, y_test = train_test_split(iris.data, iris.target, test_size=0.2, random_state=42)\n",
    "\n",
    "# Train a RandomForestClassifier\n",
    "model = RandomForestClassifier()\n",
    "model.fit(X_train, y_train)\n",
    "\n",
    "# Evaluate the model\n",
    "y_pred = model.predict(X_test)\n",
    "accuracy = accuracy_score(y_test, y_pred)\n",
    "print(f\"Model accuracy: {accuracy:.2f}\")"
   ]
  },
  {
   "cell_type": "code",
   "execution_count": 4,
   "id": "51a8f83f",
   "metadata": {},
   "outputs": [
    {
     "name": "stderr",
     "output_type": "stream",
     "text": [
      "2025-01-21 15:27:19.450 - model_store.store - INFO - Saving 'random_forest' model\n",
      "2025-01-21 15:27:19.463 - model_store.store - INFO - Added model version record (0.0120s)\n",
      "2025-01-21 15:27:19.464 - model_store.store - INFO - Starting model serialization and storage\n",
      "2025-01-21 15:27:19.473 - model_store.store - INFO - Stored model in 2 shards (0.0091s)\n",
      "2025-01-21 15:27:19.476 - model_store.store - INFO - Set shards (0.0021s)\n",
      "2025-01-21 15:27:19.476 - model_store.store - INFO - Total save operation completed in 0.0265s\n"
     ]
    }
   ],
   "source": [
    "# Save the trained model to Redis\n",
    "model_name = \"random_forest\"\n",
    "version = model_store.save_model(model, model_name)"
   ]
  },
  {
   "cell_type": "code",
   "execution_count": 5,
   "id": "d0ce2b03",
   "metadata": {},
   "outputs": [
    {
     "name": "stderr",
     "output_type": "stream",
     "text": [
      "2025-01-21 15:27:21.193 - model_store.store - INFO - Loading 'random_forest' model\n",
      "2025-01-21 15:27:21.197 - model_store.store - INFO - Retrieved model version metadata (0.0021s)\n",
      "2025-01-21 15:27:21.197 - model_store.store - INFO - Starting model reconstruction from shards\n",
      "2025-01-21 15:27:21.203 - model_store.store - INFO - Loaded model from 2 shards (0.0063s)\n",
      "2025-01-21 15:27:21.204 - model_store.store - INFO - Load operation completed (0.0110s)\n"
     ]
    },
    {
     "name": "stdout",
     "output_type": "stream",
     "text": [
      "Loaded model accuracy: 1.00\n"
     ]
    }
   ],
   "source": [
    "# Load the model from Redis\n",
    "loaded_model = model_store.load_model(model_name)\n",
    "\n",
    "# Verify that the loaded model works\n",
    "y_pred_loaded = loaded_model.predict(X_test)\n",
    "loaded_accuracy = accuracy_score(y_test, y_pred_loaded)\n",
    "print(f\"Loaded model accuracy: {loaded_accuracy:.2f}\")"
   ]
  },
  {
   "cell_type": "markdown",
   "id": "c743a48d",
   "metadata": {},
   "source": [
    "## Test with 1Gb numpy array\n"
   ]
  },
  {
   "cell_type": "code",
   "execution_count": 6,
   "id": "dd894c4e",
   "metadata": {},
   "outputs": [],
   "source": [
    "import numpy as np\n",
    "\n",
    "desired_size_bytes = 1024*1024*1024\n",
    "num_elements = desired_size_bytes // 8\n",
    "large_array = np.random.rand(num_elements).astype(np.float64)\n",
    "\n",
    "model_name = \"numpy_array\""
   ]
  },
  {
   "cell_type": "code",
   "execution_count": 7,
   "id": "bcc6abd7",
   "metadata": {},
   "outputs": [
    {
     "name": "stderr",
     "output_type": "stream",
     "text": [
      "2025-01-21 15:27:28.351 - model_store.store - INFO - Saving 'numpy_array' model\n",
      "2025-01-21 15:27:28.356 - model_store.store - INFO - Added model version record (0.0041s)\n",
      "2025-01-21 15:27:28.356 - model_store.store - INFO - Starting model serialization and storage\n",
      "2025-01-21 15:27:36.096 - model_store.store - INFO - Stored model in 10611 shards (7.7397s)\n",
      "2025-01-21 15:27:36.103 - model_store.store - INFO - Set shards (0.0065s)\n",
      "2025-01-21 15:27:36.103 - model_store.store - INFO - Total save operation completed in 7.7524s\n"
     ]
    }
   ],
   "source": [
    "version = model_store.save_model(large_array, model_name)"
   ]
  },
  {
   "cell_type": "code",
   "execution_count": 8,
   "id": "12f57740",
   "metadata": {},
   "outputs": [
    {
     "name": "stderr",
     "output_type": "stream",
     "text": [
      "2025-01-21 15:27:46.092 - model_store.store - INFO - Loading 'numpy_array' model\n",
      "2025-01-21 15:27:46.099 - model_store.store - INFO - Retrieved model version metadata (0.0062s)\n",
      "2025-01-21 15:27:46.100 - model_store.store - INFO - Starting model reconstruction from shards\n",
      "2025-01-21 15:27:49.886 - model_store.store - INFO - Loaded model from 10611 shards (3.7868s)\n",
      "2025-01-21 15:27:49.927 - model_store.store - INFO - Load operation completed (3.8342s)\n"
     ]
    }
   ],
   "source": [
    "# Load the model from Redis\n",
    "loaded_model = model_store.load_model(model_name)"
   ]
  },
  {
   "cell_type": "code",
   "execution_count": 9,
   "id": "e29ce236",
   "metadata": {},
   "outputs": [
    {
     "data": {
      "text/plain": [
       "np.True_"
      ]
     },
     "execution_count": 9,
     "metadata": {},
     "output_type": "execute_result"
    }
   ],
   "source": [
    "# check if all elements match in the array\n",
    "sum(loaded_model == large_array) == num_elements"
   ]
  },
  {
   "cell_type": "markdown",
   "id": "3c452718",
   "metadata": {},
   "source": [
    "## Test with pytorch model"
   ]
  },
  {
   "cell_type": "code",
   "execution_count": 11,
   "id": "ccc06981",
   "metadata": {},
   "outputs": [],
   "source": [
    "import torch\n",
    "import torch.nn as nn\n",
    "import torch.optim as optim\n",
    "\n",
    "# Define a simple model\n",
    "class SimpleModel(nn.Module):\n",
    "    def __init__(self):\n",
    "        super(SimpleModel, self).__init__()\n",
    "        self.fc = nn.Linear(1, 1)\n",
    "\n",
    "    def forward(self, x):\n",
    "        return self.fc(x)\n",
    "\n",
    "# Create model, define loss and optimizer\n",
    "model = SimpleModel()\n",
    "criterion = nn.MSELoss()\n",
    "optimizer = optim.SGD(model.parameters(), lr=0.01)\n",
    "\n",
    "# Dummy data\n",
    "x = torch.tensor([[1.0], [2.0], [3.0]], requires_grad=True)\n",
    "y = torch.tensor([[2.0], [4.0], [6.0]])\n",
    "\n",
    "# Training loop\n",
    "for epoch in range(100):\n",
    "    optimizer.zero_grad()\n",
    "    output = model(x)\n",
    "    loss = criterion(output, y)\n",
    "    loss.backward()\n",
    "    optimizer.step()"
   ]
  },
  {
   "cell_type": "code",
   "execution_count": 12,
   "id": "f5e2dc3f",
   "metadata": {},
   "outputs": [
    {
     "name": "stdout",
     "output_type": "stream",
     "text": [
      "Prediction for input 4.0: 6.903447151184082\n"
     ]
    }
   ],
   "source": [
    "# Make a simple prediction\n",
    "x_test = torch.tensor([[4.0]])\n",
    "prediction = model(x_test).item()\n",
    "print(f\"Prediction for input 4.0: {prediction}\")"
   ]
  },
  {
   "cell_type": "code",
   "execution_count": 15,
   "id": "86dc9f9d",
   "metadata": {},
   "outputs": [
    {
     "name": "stderr",
     "output_type": "stream",
     "text": [
      "2025-01-21 12:32:58.244 - model_store.store - INFO - Starting save operation for model 'pytorch'\n",
      "2025-01-21 12:32:58.247 - model_store.store - INFO - Added version record (0.0028s)\n",
      "2025-01-21 12:32:58.248 - model_store.store - INFO - Starting model serialization and storage\n",
      "2025-01-21 12:32:58.250 - model_store.store - INFO - Stored model in 1 shards (0.0019s)\n",
      "2025-01-21 12:32:58.252 - model_store.store - INFO - Set shards (0.0018s)\n",
      "2025-01-21 12:32:58.252 - model_store.store - INFO - Total save operation completed in 0.0083s\n"
     ]
    },
    {
     "data": {
      "text/plain": [
       "'1.0'"
      ]
     },
     "execution_count": 15,
     "metadata": {},
     "output_type": "execute_result"
    }
   ],
   "source": [
    "# Save the trained model to Redis\n",
    "model_name = \"pytorch\"\n",
    "version = \"1.0\"\n",
    "model_store.save_model(model, model_name, version=version)"
   ]
  },
  {
   "cell_type": "code",
   "execution_count": 16,
   "id": "670f353f",
   "metadata": {},
   "outputs": [
    {
     "name": "stderr",
     "output_type": "stream",
     "text": [
      "2025-01-21 12:33:00.741 - model_store.store - INFO - Starting load operation for model 'pytorch'\n",
      "2025-01-21 12:33:00.744 - model_store.store - INFO - Retrieved version metadata (0.0018s)\n",
      "2025-01-21 12:33:00.745 - model_store.store - INFO - Starting model reconstruction from shards\n",
      "2025-01-21 12:33:00.747 - model_store.store - INFO - Loaded model from 1 shards (0.0019s)\n",
      "2025-01-21 12:33:00.747 - model_store.store - INFO - Total load operation completed (0.0055s)\n"
     ]
    },
    {
     "name": "stdout",
     "output_type": "stream",
     "text": [
      "Prediction for input 4.0 with loaded model: 6.903447151184082\n"
     ]
    }
   ],
   "source": [
    "# Load the model from Redis\n",
    "loaded_model = model_store.load_model(model_name)\n",
    "\n",
    "prediction = loaded_model(x_test).item()\n",
    "print(f\"Prediction for input 4.0 with loaded model: {prediction}\")"
   ]
  },
  {
   "cell_type": "markdown",
   "id": "c6644d75",
   "metadata": {},
   "source": [
    "## Test with tensorflow"
   ]
  },
  {
   "cell_type": "code",
   "execution_count": 17,
   "id": "e8bd2de2",
   "metadata": {},
   "outputs": [
    {
     "name": "stderr",
     "output_type": "stream",
     "text": [
      "/Users/tyler.hutcherson/Library/Caches/pypoetry/virtualenvs/redis-model-store-__eJJx5C-py3.11/lib/python3.11/site-packages/keras/src/layers/core/dense.py:87: UserWarning: Do not pass an `input_shape`/`input_dim` argument to a layer. When using Sequential models, prefer using an `Input(shape)` object as the first layer in the model instead.\n",
      "  super().__init__(activity_regularizer=activity_regularizer, **kwargs)\n"
     ]
    },
    {
     "data": {
      "text/plain": [
       "<keras.src.callbacks.history.History at 0x2ca27bd10>"
      ]
     },
     "execution_count": 17,
     "metadata": {},
     "output_type": "execute_result"
    }
   ],
   "source": [
    "import tensorflow as tf\n",
    "\n",
    "# Define a simple model\n",
    "model = tf.keras.Sequential([\n",
    "    tf.keras.layers.Dense(1, input_shape=(1,))\n",
    "])\n",
    "\n",
    "# Compile the model\n",
    "model.compile(optimizer='sgd', loss='mse')\n",
    "\n",
    "# Dummy data\n",
    "x = tf.constant([[1.0], [2.0], [3.0]])\n",
    "y = tf.constant([[2.0], [4.0], [6.0]])\n",
    "\n",
    "# Train the model\n",
    "model.fit(x, y, epochs=100, verbose=0)"
   ]
  },
  {
   "cell_type": "code",
   "execution_count": 18,
   "id": "c26f35ec",
   "metadata": {},
   "outputs": [
    {
     "name": "stdout",
     "output_type": "stream",
     "text": [
      "Prediction for input 4.0: 7.460770606994629\n"
     ]
    }
   ],
   "source": [
    "# Make a simple prediction\n",
    "x_test = tf.constant([[4.0]])\n",
    "prediction = model(x_test).numpy()[0, 0]\n",
    "print(f\"Prediction for input 4.0: {prediction}\")"
   ]
  },
  {
   "cell_type": "code",
   "execution_count": 19,
   "id": "5aeaf0ac",
   "metadata": {},
   "outputs": [
    {
     "name": "stderr",
     "output_type": "stream",
     "text": [
      "2025-01-21 12:33:24.276 - model_store.store - INFO - Starting save operation for model 'tensorflow'\n",
      "2025-01-21 12:33:24.280 - model_store.store - INFO - Added version record (0.0028s)\n",
      "2025-01-21 12:33:24.280 - model_store.store - INFO - Starting model serialization and storage\n",
      "2025-01-21 12:33:24.291 - model_store.store - INFO - Stored model in 1 shards (0.0107s)\n",
      "2025-01-21 12:33:24.292 - model_store.store - INFO - Set shards (0.0014s)\n",
      "2025-01-21 12:33:24.293 - model_store.store - INFO - Total save operation completed in 0.0163s\n"
     ]
    },
    {
     "data": {
      "text/plain": [
       "'1.0'"
      ]
     },
     "execution_count": 19,
     "metadata": {},
     "output_type": "execute_result"
    }
   ],
   "source": [
    "# Save the trained model to Redis\n",
    "model_name = \"tensorflow\"\n",
    "version = \"1.0\"\n",
    "model_store.save_model(model, model_name, version=version)"
   ]
  },
  {
   "cell_type": "code",
   "execution_count": 20,
   "id": "117255d6",
   "metadata": {},
   "outputs": [
    {
     "name": "stderr",
     "output_type": "stream",
     "text": [
      "2025-01-21 12:33:24.297 - model_store.store - INFO - Starting load operation for model 'tensorflow'\n",
      "2025-01-21 12:33:24.300 - model_store.store - INFO - Retrieved version metadata (0.0027s)\n",
      "2025-01-21 12:33:24.301 - model_store.store - INFO - Starting model reconstruction from shards\n",
      "2025-01-21 12:33:24.312 - model_store.store - INFO - Loaded model from 1 shards (0.0108s)\n",
      "2025-01-21 12:33:24.312 - model_store.store - INFO - Total load operation completed (0.0150s)\n"
     ]
    },
    {
     "name": "stdout",
     "output_type": "stream",
     "text": [
      "Prediction for input 4.0 with loaded model: 7.460770606994629\n"
     ]
    }
   ],
   "source": [
    "# Load the model from Redis\n",
    "loaded_model = model_store.load_model(model_name)\n",
    "\n",
    "prediction = loaded_model(x_test).numpy()[0, 0]\n",
    "print(f\"Prediction for input 4.0 with loaded model: {prediction}\")"
   ]
  },
  {
   "cell_type": "markdown",
   "id": "db4db02e",
   "metadata": {},
   "source": [
    "# Clear the model store"
   ]
  }
 ],
 "metadata": {
  "kernelspec": {
   "display_name": "Python 3 (ipykernel)",
   "language": "python",
   "name": "python3"
  },
  "language_info": {
   "codemirror_mode": {
    "name": "ipython",
    "version": 3
   },
   "file_extension": ".py",
   "mimetype": "text/x-python",
   "name": "python",
   "nbconvert_exporter": "python",
   "pygments_lexer": "ipython3",
   "version": "3.11.10"
  }
 },
 "nbformat": 4,
 "nbformat_minor": 5
}
